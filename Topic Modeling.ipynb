{
 "cells": [
  {
   "cell_type": "code",
   "execution_count": 6,
   "metadata": {
    "collapsed": false
   },
   "outputs": [
    {
     "name": "stdout",
     "output_type": "stream",
     "text": [
      "Learned topics (as distributions over vocab of 11 words):\n",
      "Topic 0:\n",
      " 5.52980615098\n",
      " 7.38108413867\n",
      " 4.99285303667\n",
      " 25.3921834865\n",
      " 7.65002042228\n",
      " 5.99186860086\n",
      " 7.68412065218\n",
      " 1.85886227278\n",
      " 1.84121713812\n",
      " 6.31702766636\n",
      " 11.6375253577\n",
      "Topic 1:\n",
      " 9.97423657496\n",
      " 6.10285729763\n",
      " 2.55577811354\n",
      " 7.56157848508\n",
      " 4.32015299522\n",
      " 6.87087753383\n",
      " 16.7146332875\n",
      " 2.47646500309\n",
      " 4.59046887497\n",
      " 9.87018109723\n",
      " 15.8666187777\n",
      "Topic 2:\n",
      " 10.4959572741\n",
      " 15.5160585637\n",
      " 4.45136884978\n",
      " 7.04623802847\n",
      " 13.0298265825\n",
      " 9.13725386531\n",
      " 6.60124606031\n",
      " 5.66467272413\n",
      " 1.56831398691\n",
      " 7.81279123641\n",
      " 5.49585586457\n"
     ]
    }
   ],
   "source": [
    "import findspark\n",
    "findspark.init()\n",
    "import pyspark\n",
    "from pyspark.mllib.clustering import LDA, LDAModel\n",
    "from pyspark.mllib.linalg import Vectors\n",
    "#sc = pyspark.SparkContext('local[*]')\n",
    "# Load and parse the data\n",
    "data = sc.textFile(\"lda_test.txt\")\n",
    "parsedData = data.map(lambda line: Vectors.dense([float(x) for x in line.strip().split(' ')]))\n",
    "# Index documents with unique IDs\n",
    "corpus = parsedData.zipWithIndex().map(lambda x: [x[1], x[0]]).cache()\n",
    "\n",
    "# Cluster the documents into three topics using LDA\n",
    "ldaModel = LDA.train(corpus, k=3)\n",
    "\n",
    "# Output topics. Each is a distribution over words (matching word count vectors)\n",
    "print(\"Learned topics (as distributions over vocab of \" + str(ldaModel.vocabSize())\n",
    "      + \" words):\")\n",
    "topics = ldaModel.topicsMatrix()\n",
    "for topic in range(3):\n",
    "    print(\"Topic \" + str(topic) + \":\")\n",
    "    for word in range(0, ldaModel.vocabSize()):\n",
    "        print(\" \" + str(topics[word][topic]))\n",
    "\n",
    "# Save and load model\n",
    "ldaModel.save(sc, \"target/org/apache/spark/PythonLatentDirichletAllocationExample/LDAModel\")\n",
    "sameModel = LDAModel\\\n",
    "    .load(sc, \"target/org/apache/spark/PythonLatentDirichletAllocationExample/LDAModel\")"
   ]
  },
  {
   "cell_type": "code",
   "execution_count": null,
   "metadata": {
    "collapsed": true
   },
   "outputs": [],
   "source": []
  }
 ],
 "metadata": {
  "kernelspec": {
   "display_name": "Python [conda root]",
   "language": "python",
   "name": "conda-root-py"
  },
  "language_info": {
   "codemirror_mode": {
    "name": "ipython",
    "version": 3
   },
   "file_extension": ".py",
   "mimetype": "text/x-python",
   "name": "python",
   "nbconvert_exporter": "python",
   "pygments_lexer": "ipython3",
   "version": "3.5.2"
  }
 },
 "nbformat": 4,
 "nbformat_minor": 1
}
