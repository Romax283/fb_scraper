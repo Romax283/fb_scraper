{
 "cells": [
  {
   "cell_type": "code",
   "execution_count": 2,
   "metadata": {
    "collapsed": false
   },
   "outputs": [],
   "source": [
    "#Test Spark to make sure it works delete later.\n",
    "import findspark\n",
    "findspark.init()\n",
    "import pyspark\n",
    "sc = pyspark.SparkContext('local[*]')\n",
    "# do something to prove it works\n",
    "rdd = sc.parallelize(range(1000))\n",
    "rdd.takeSample(False, 5)\n",
    "sc.stop()\n"
   ]
  },
  {
   "cell_type": "code",
   "execution_count": 3,
   "metadata": {
    "collapsed": false
   },
   "outputs": [
    {
     "name": "stdout",
     "output_type": "stream",
     "text": [
      "+--------------------+--------------------+----------+-----------+--------------------+-------------------+-------------+------------+----------+---------+---------+--------+---------+--------+----------+\n",
      "|           status_id|      status_message| link_name|status_type|         status_link|   status_published|num_reactions|num_comments|num_shares|num_likes|num_loves|num_wows|num_hahas|num_sads|num_angrys|\n",
      "+--------------------+--------------------+----------+-----------+--------------------+-------------------+-------------+------------+----------+---------+---------+--------+---------+--------+----------+\n",
      "|160558090672531_1...|So, rain is in th...|      null|     status|                null|2016-12-22 13:34:30|            4|          15|         0|        4|        0|       0|        0|       0|         0|\n",
      "|160558090672531_1...|                null|      null|     status|                null|2016-12-22 21:38:02|           15|           3|         0|       14|        0|       1|        0|       0|         0|\n",
      "|160558090672531_1...|              Zoomie|      null|      video|https://www.faceb...|2016-12-21 19:12:13|           55|          13|         4|       50|        0|       5|        0|       0|         0|\n",
      "|160558090672531_1...|Someone don't see...|      null|      video|https://www.faceb...|2016-12-21 17:40:37|           34|           5|         3|       34|        0|       0|        0|       0|         0|\n",
      "|160558090672531_1...|Know what would m...|      null|     status|                null|2016-12-21 09:51:47|           12|          13|         0|       12|        0|       0|        0|       0|         0|\n",
      "|160558090672531_1...|                null|      null|      video|https://www.faceb...|2016-12-21 19:04:09|           19|           7|         3|       15|        0|       4|        0|       0|         0|\n",
      "|160558090672531_1...|So, I plan on bei...|      null|     status|                null|2016-12-20 12:09:08|            4|           2|         0|        4|        0|       0|        0|       0|         0|\n",
      "|160558090672531_1...|               Johno|      null|      video|https://www.faceb...|2016-12-21 18:25:39|           19|           1|         4|       19|        0|       0|        0|       0|         0|\n",
      "|160558090672531_1...|        Shawn Malone|      null|      video|https://www.faceb...|2016-12-21 18:54:30|           14|           4|         1|       13|        1|       0|        0|       0|         0|\n",
      "|160558090672531_1...|                null|      null|      video|https://www.faceb...|2016-12-21 18:58:56|           13|           8|         0|       13|        0|       0|        0|       0|         0|\n",
      "|160558090672531_1...|Doopey, Mr. Magoo...|      null|      photo|https://www.faceb...|2016-12-21 18:35:29|            9|           0|         0|        9|        0|       0|        0|       0|         0|\n",
      "|160558090672531_1...|          Chris King|      null|      video|https://www.faceb...|2016-12-21 17:53:35|           13|           4|         0|       13|        0|       0|        0|       0|         0|\n",
      "|160558090672531_1...|we needed more sa...|      null|      photo|https://www.faceb...|2016-12-21 18:25:58|           11|           0|         0|       11|        0|       0|        0|       0|         0|\n",
      "|160558090672531_1...|        safety break|      null|      photo|https://www.faceb...|2016-12-21 18:25:12|            5|           0|         0|        5|        0|       0|        0|       0|         0|\n",
      "|160558090672531_1...|Small group of li...|      null|      video|https://www.faceb...|2016-12-21 18:16:21|           15|           0|         0|       15|        0|       0|        0|       0|         0|\n",
      "|160558090672531_1...|    Mr. Randy Barnes|      null|      video|https://www.faceb...|2016-12-21 17:59:13|           17|           0|         0|       17|        0|       0|        0|       0|         0|\n",
      "|160558090672531_1...|Just dropped on t...|ThreeWaves|      photo|https://www.faceb...|2016-12-21 16:27:25|            2|           0|         0|        2|        0|       0|        0|       0|         0|\n",
      "|160558090672531_1...|Thinking of bring...|      null|     status|                null|2016-12-20 14:45:04|            2|          10|         0|        2|        0|       0|        0|       0|         0|\n",
      "|160558090672531_1...|                null|      null|     status|                null|2016-12-21 11:28:42|           32|           6|         0|       31|        1|       0|        0|       0|         0|\n",
      "|160558090672531_1...|When you're tryin...|      null|      video|https://www.faceb...|2016-12-20 11:40:42|          104|          16|         3|       99|        0|       2|        3|       0|         0|\n",
      "+--------------------+--------------------+----------+-----------+--------------------+-------------------+-------------+------------+----------+---------+---------+--------+---------+--------+----------+\n",
      "only showing top 20 rows\n",
      "\n",
      "+--------------------+\n",
      "|      status_message|\n",
      "+--------------------+\n",
      "|So, rain is in th...|\n",
      "|                null|\n",
      "|              Zoomie|\n",
      "|Someone don't see...|\n",
      "|Know what would m...|\n",
      "|                null|\n",
      "|So, I plan on bei...|\n",
      "|               Johno|\n",
      "|        Shawn Malone|\n",
      "|                null|\n",
      "|Doopey, Mr. Magoo...|\n",
      "|          Chris King|\n",
      "|we needed more sa...|\n",
      "|        safety break|\n",
      "|Small group of li...|\n",
      "|    Mr. Randy Barnes|\n",
      "|Just dropped on t...|\n",
      "|Thinking of bring...|\n",
      "|                null|\n",
      "|When you're tryin...|\n",
      "+--------------------+\n",
      "only showing top 20 rows\n",
      "\n"
     ]
    }
   ],
   "source": [
    "from pyspark.sql import SQLContext\n",
    "sc = pyspark.SparkContext('local[*]')\n",
    "sqlContext = SQLContext(sc)\n",
    "df = sqlContext.read.format('com.databricks.spark.csv').options(header='true', inferschema='true').load('160558090672531_facebook_statuses.csv')\n",
    "df.show()\n",
    "messages = df.select(\"status_message\")\n",
    "messages.show()\n",
    "message_rdd=messages.rdd\n"
   ]
  },
  {
   "cell_type": "code",
   "execution_count": null,
   "metadata": {
    "collapsed": true
   },
   "outputs": [],
   "source": []
  },
  {
   "cell_type": "code",
   "execution_count": 10,
   "metadata": {
    "collapsed": false
   },
   "outputs": [
    {
     "name": "stdout",
     "output_type": "stream",
     "text": [
      "['So, rain is in the forecast for Saturday and Saturday night, which means we may get some natural flow for Christmas. Would anyone be down to paddle if that happens? Like Little or Tellico or something? Rich, Holly, Alex, aaaaaaanyone?', None, 'Zoomie', \"Someone don't see on the water enough, right Pete Dolan\", 'Know what would make the perfect xmas gift? A Blackfly delta! And guess what? I HAVE ONE FOR SALE!!!']\n"
     ]
    },
    {
     "ename": "TypeError",
     "evalue": "'PipelinedRDD' object is not iterable",
     "output_type": "error",
     "traceback": [
      "\u001b[0;31m---------------------------------------------------------------------------\u001b[0m",
      "\u001b[0;31mTypeError\u001b[0m                                 Traceback (most recent call last)",
      "\u001b[0;32m<ipython-input-10-c1d192b3d4eb>\u001b[0m in \u001b[0;36m<module>\u001b[0;34m()\u001b[0m\n\u001b[1;32m     22\u001b[0m \u001b[0mprint\u001b[0m\u001b[1;33m(\u001b[0m\u001b[0mstatuses\u001b[0m\u001b[1;33m.\u001b[0m\u001b[0mtake\u001b[0m\u001b[1;33m(\u001b[0m\u001b[1;36m5\u001b[0m\u001b[1;33m)\u001b[0m\u001b[1;33m)\u001b[0m\u001b[1;33m\u001b[0m\u001b[0m\n\u001b[1;32m     23\u001b[0m \u001b[1;33m\u001b[0m\u001b[0m\n\u001b[0;32m---> 24\u001b[0;31m \u001b[0mfiltered_words\u001b[0m \u001b[1;33m=\u001b[0m \u001b[0mlist\u001b[0m\u001b[1;33m(\u001b[0m\u001b[0mstatuses\u001b[0m\u001b[1;33m.\u001b[0m\u001b[0mmap\u001b[0m\u001b[1;33m(\u001b[0m\u001b[1;32mlambda\u001b[0m \u001b[0mx\u001b[0m\u001b[1;33m:\u001b[0m \u001b[0mshit\u001b[0m\u001b[1;33m(\u001b[0m\u001b[0mx\u001b[0m\u001b[1;33m)\u001b[0m\u001b[1;33m)\u001b[0m\u001b[1;33m)\u001b[0m\u001b[1;33m\u001b[0m\u001b[0m\n\u001b[0m\u001b[1;32m     25\u001b[0m \u001b[1;33m\u001b[0m\u001b[0m\n\u001b[1;32m     26\u001b[0m \u001b[0mprint\u001b[0m\u001b[1;33m(\u001b[0m\u001b[0mfiltered_words\u001b[0m\u001b[1;33m.\u001b[0m\u001b[0mtake\u001b[0m\u001b[1;33m(\u001b[0m\u001b[1;36m5\u001b[0m\u001b[1;33m)\u001b[0m\u001b[1;33m)\u001b[0m\u001b[1;33m\u001b[0m\u001b[0m\n",
      "\u001b[0;31mTypeError\u001b[0m: 'PipelinedRDD' object is not iterable"
     ]
    }
   ],
   "source": [
    "#Using NLTK \n",
    "import nltk\n",
    "from nltk.corpus import stopwords  \n",
    "import re\n",
    "import sys\n",
    "from operator import add\n",
    "import string \n",
    "\n",
    "def word_tokenize(x):\n",
    "    return nltk.word_tokenize(x)\n",
    "\n",
    "def shit(word):\n",
    "    return word_tokenize(word)\n",
    "    \n",
    "    \n",
    "    #eturn x.replace(\"\"\"([\\p{Punct}&&[^.]]|\\b\\p{IsLetter}{1,2}\\b)\\s*\"\"\", \"\")\n",
    "def filter_e(x):\n",
    "    return ([x])\n",
    "\n",
    "        \n",
    "statuses = message_rdd.flatMap(lambda x: x)\n",
    "print(statuses.take(5))\n",
    "\n",
    "filtered_words = statuses.map(lambda x: shit(x))\n",
    "\n",
    "print(filtered_words.take(5))\n",
    "print(dwfdqfq)\n",
    "\n",
    "sc.stop()"
   ]
  },
  {
   "cell_type": "code",
   "execution_count": null,
   "metadata": {
    "collapsed": true
   },
   "outputs": [],
   "source": []
  }
 ],
 "metadata": {
  "anaconda-cloud": {},
  "kernelspec": {
   "display_name": "Python [conda root]",
   "language": "python",
   "name": "conda-root-py"
  },
  "language_info": {
   "codemirror_mode": {
    "name": "ipython",
    "version": 3
   },
   "file_extension": ".py",
   "mimetype": "text/x-python",
   "name": "python",
   "nbconvert_exporter": "python",
   "pygments_lexer": "ipython3",
   "version": "3.5.2"
  }
 },
 "nbformat": 4,
 "nbformat_minor": 1
}
